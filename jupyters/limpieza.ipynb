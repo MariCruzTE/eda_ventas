{
 "cells": [
  {
   "cell_type": "markdown",
   "id": "db4e3836",
   "metadata": {},
   "source": [
    "# Preanálisis de los datos y pruebas para la limpieza de datos"
   ]
  },
  {
   "cell_type": "code",
   "execution_count": 1,
   "id": "d31296f7",
   "metadata": {},
   "outputs": [],
   "source": [
    "# Importaciones\n",
    "import pandas as pd\n",
    "import numpy as np\n",
    "\n",
    "#Seteo de opciones\n",
    "pd.set_option(\"display.max_columns\", None)"
   ]
  },
  {
   "cell_type": "code",
   "execution_count": 2,
   "id": "2d318520",
   "metadata": {},
   "outputs": [
    {
     "data": {
      "text/html": [
       "<div>\n",
       "<style scoped>\n",
       "    .dataframe tbody tr th:only-of-type {\n",
       "        vertical-align: middle;\n",
       "    }\n",
       "\n",
       "    .dataframe tbody tr th {\n",
       "        vertical-align: top;\n",
       "    }\n",
       "\n",
       "    .dataframe thead th {\n",
       "        text-align: right;\n",
       "    }\n",
       "</style>\n",
       "<table border=\"1\" class=\"dataframe\">\n",
       "  <thead>\n",
       "    <tr style=\"text-align: right;\">\n",
       "      <th></th>\n",
       "      <th>Invoice/Item Number</th>\n",
       "      <th>Date</th>\n",
       "      <th>Store Number</th>\n",
       "      <th>Store Name</th>\n",
       "      <th>Store Location</th>\n",
       "      <th>County Number</th>\n",
       "      <th>County</th>\n",
       "      <th>Category</th>\n",
       "      <th>Category Name</th>\n",
       "      <th>Vendor Number</th>\n",
       "      <th>Vendor Name</th>\n",
       "      <th>Item Number</th>\n",
       "      <th>Item Description</th>\n",
       "      <th>Pack</th>\n",
       "      <th>Bottle Volume (ml)</th>\n",
       "      <th>State Bottle Cost</th>\n",
       "      <th>State Bottle Retail</th>\n",
       "      <th>Bottles Sold</th>\n",
       "      <th>Sale (Dollars)</th>\n",
       "      <th>Volume Sold (Gallons)</th>\n",
       "    </tr>\n",
       "  </thead>\n",
       "  <tbody>\n",
       "    <tr>\n",
       "      <th>102</th>\n",
       "      <td>S08792800017</td>\n",
       "      <td>11/06/2019</td>\n",
       "      <td>2459</td>\n",
       "      <td>Reinhart Foods</td>\n",
       "      <td>200 STATE PO BOX 98\\nGUTHRIE CENTER 50115\\n</td>\n",
       "      <td>39.0</td>\n",
       "      <td>Guthrie</td>\n",
       "      <td>1062300.0</td>\n",
       "      <td>FLAVORED RUM</td>\n",
       "      <td>65.0</td>\n",
       "      <td>Jim Beam Brands</td>\n",
       "      <td>44499</td>\n",
       "      <td>Cruzan Mango Rum</td>\n",
       "      <td>12</td>\n",
       "      <td>750</td>\n",
       "      <td>$6.82</td>\n",
       "      <td>$10.24</td>\n",
       "      <td>3</td>\n",
       "      <td>$30.72</td>\n",
       "      <td>0.59</td>\n",
       "    </tr>\n",
       "    <tr>\n",
       "      <th>103</th>\n",
       "      <td>S04854100048</td>\n",
       "      <td>04/03/2019</td>\n",
       "      <td>2487</td>\n",
       "      <td>Anamosa Family Foods</td>\n",
       "      <td>402 EAST MAIN\\nANAMOSA 52205\\n(42.108289, -91....</td>\n",
       "      <td>53.0</td>\n",
       "      <td>Jones</td>\n",
       "      <td>1081300.0</td>\n",
       "      <td>PEPPERMINT SCHNAPPS</td>\n",
       "      <td>434.0</td>\n",
       "      <td>Luxco-St Louis</td>\n",
       "      <td>80578</td>\n",
       "      <td>Arrow Peppermint Schnapps</td>\n",
       "      <td>6</td>\n",
       "      <td>1750</td>\n",
       "      <td>$7.04</td>\n",
       "      <td>$10.56</td>\n",
       "      <td>3</td>\n",
       "      <td>$31.68</td>\n",
       "      <td>1.39</td>\n",
       "    </tr>\n",
       "    <tr>\n",
       "      <th>106</th>\n",
       "      <td>S08900500035</td>\n",
       "      <td>11/13/2019</td>\n",
       "      <td>4509</td>\n",
       "      <td>A J'S LIQUOR II</td>\n",
       "      <td>2515 CHAMBERLAIN\\nAMES 50010\\n(42.02146, -93.6...</td>\n",
       "      <td>85.0</td>\n",
       "      <td>Story</td>\n",
       "      <td>1081900.0</td>\n",
       "      <td>MISC. AMERICAN CORDIALS &amp; LIQUEURS</td>\n",
       "      <td>322.0</td>\n",
       "      <td>Prestige Wine and Spirits Group</td>\n",
       "      <td>75210</td>\n",
       "      <td>Kinky Liqueur</td>\n",
       "      <td>6</td>\n",
       "      <td>750</td>\n",
       "      <td>$10.00</td>\n",
       "      <td>$15.00</td>\n",
       "      <td>12</td>\n",
       "      <td>$180.00</td>\n",
       "      <td>2.38</td>\n",
       "    </tr>\n",
       "    <tr>\n",
       "      <th>110</th>\n",
       "      <td>S06855800032</td>\n",
       "      <td>07/31/2019</td>\n",
       "      <td>2522</td>\n",
       "      <td>Hy-Vee Wine and Spirits / Spirit Lak</td>\n",
       "      <td>HWY 9 &amp;amp; 71\\nSPIRIT LAKE 51360\\n</td>\n",
       "      <td>30.0</td>\n",
       "      <td>Dickinson</td>\n",
       "      <td>1062200.0</td>\n",
       "      <td>PUERTO RICO &amp; VIRGIN ISLANDS RUM</td>\n",
       "      <td>35.0</td>\n",
       "      <td>Bacardi U.S.A., Inc.</td>\n",
       "      <td>43125</td>\n",
       "      <td>Bacardi Superior Rum Pet</td>\n",
       "      <td>12</td>\n",
       "      <td>750</td>\n",
       "      <td>$7.53</td>\n",
       "      <td>$11.30</td>\n",
       "      <td>12</td>\n",
       "      <td>$135.60</td>\n",
       "      <td>2.38</td>\n",
       "    </tr>\n",
       "    <tr>\n",
       "      <th>113</th>\n",
       "      <td>S08372100023</td>\n",
       "      <td>10/16/2019</td>\n",
       "      <td>3816</td>\n",
       "      <td>Swils</td>\n",
       "      <td>200 E OAK ST\\nRED OAK 51566\\n(41.016691, -95.2...</td>\n",
       "      <td>69.0</td>\n",
       "      <td>Montgomery</td>\n",
       "      <td>1031200.0</td>\n",
       "      <td>VODKA FLAVORED</td>\n",
       "      <td>380.0</td>\n",
       "      <td>Phillips Beverage Company</td>\n",
       "      <td>41693</td>\n",
       "      <td>Uv Blue (raspberry) Vodka</td>\n",
       "      <td>12</td>\n",
       "      <td>750</td>\n",
       "      <td>$6.25</td>\n",
       "      <td>$9.49</td>\n",
       "      <td>12</td>\n",
       "      <td>$113.88</td>\n",
       "      <td>2.38</td>\n",
       "    </tr>\n",
       "  </tbody>\n",
       "</table>\n",
       "</div>"
      ],
      "text/plain": [
       "    Invoice/Item Number        Date  Store Number  \\\n",
       "102        S08792800017  11/06/2019          2459   \n",
       "103        S04854100048  04/03/2019          2487   \n",
       "106        S08900500035  11/13/2019          4509   \n",
       "110        S06855800032  07/31/2019          2522   \n",
       "113        S08372100023  10/16/2019          3816   \n",
       "\n",
       "                               Store Name  \\\n",
       "102                        Reinhart Foods   \n",
       "103                  Anamosa Family Foods   \n",
       "106                       A J'S LIQUOR II   \n",
       "110  Hy-Vee Wine and Spirits / Spirit Lak   \n",
       "113                                 Swils   \n",
       "\n",
       "                                        Store Location  County Number  \\\n",
       "102        200 STATE PO BOX 98\\nGUTHRIE CENTER 50115\\n           39.0   \n",
       "103  402 EAST MAIN\\nANAMOSA 52205\\n(42.108289, -91....           53.0   \n",
       "106  2515 CHAMBERLAIN\\nAMES 50010\\n(42.02146, -93.6...           85.0   \n",
       "110                HWY 9 &amp; 71\\nSPIRIT LAKE 51360\\n           30.0   \n",
       "113  200 E OAK ST\\nRED OAK 51566\\n(41.016691, -95.2...           69.0   \n",
       "\n",
       "         County   Category                       Category Name  Vendor Number  \\\n",
       "102     Guthrie  1062300.0                        FLAVORED RUM           65.0   \n",
       "103       Jones  1081300.0                 PEPPERMINT SCHNAPPS          434.0   \n",
       "106       Story  1081900.0  MISC. AMERICAN CORDIALS & LIQUEURS          322.0   \n",
       "110   Dickinson  1062200.0    PUERTO RICO & VIRGIN ISLANDS RUM           35.0   \n",
       "113  Montgomery  1031200.0                      VODKA FLAVORED          380.0   \n",
       "\n",
       "                         Vendor Name  Item Number           Item Description  \\\n",
       "102                  Jim Beam Brands        44499           Cruzan Mango Rum   \n",
       "103                   Luxco-St Louis        80578  Arrow Peppermint Schnapps   \n",
       "106  Prestige Wine and Spirits Group        75210              Kinky Liqueur   \n",
       "110             Bacardi U.S.A., Inc.        43125   Bacardi Superior Rum Pet   \n",
       "113        Phillips Beverage Company        41693  Uv Blue (raspberry) Vodka   \n",
       "\n",
       "     Pack  Bottle Volume (ml) State Bottle Cost State Bottle Retail  \\\n",
       "102    12                 750             $6.82              $10.24   \n",
       "103     6                1750             $7.04              $10.56   \n",
       "106     6                 750            $10.00              $15.00   \n",
       "110    12                 750             $7.53              $11.30   \n",
       "113    12                 750             $6.25               $9.49   \n",
       "\n",
       "     Bottles Sold Sale (Dollars)  Volume Sold (Gallons)  \n",
       "102             3         $30.72                   0.59  \n",
       "103             3         $31.68                   1.39  \n",
       "106            12        $180.00                   2.38  \n",
       "110            12        $135.60                   2.38  \n",
       "113            12        $113.88                   2.38  "
      ]
     },
     "execution_count": 2,
     "metadata": {},
     "output_type": "execute_result"
    }
   ],
   "source": [
    "# Leemos el archivo\n",
    "df_raw = pd.read_parquet(\"../data/data_raw/iowa_liquor_sales_2019.parquet\")\n",
    "df_raw.head()"
   ]
  },
  {
   "cell_type": "code",
   "execution_count": 3,
   "id": "f9ee422b",
   "metadata": {},
   "outputs": [
    {
     "name": "stdout",
     "output_type": "stream",
     "text": [
      "El dataset esta formado por 2073616 filas y 20 columnas\n"
     ]
    }
   ],
   "source": [
    "# Primero una copia del df por si acaso\n",
    "df = df_raw\n",
    "print(f\"El dataset esta formado por {df.shape[0]} filas y {df.shape[1]} columnas\")"
   ]
  },
  {
   "cell_type": "code",
   "execution_count": 4,
   "id": "d6b704c1",
   "metadata": {},
   "outputs": [
    {
     "data": {
      "text/html": [
       "<div>\n",
       "<style scoped>\n",
       "    .dataframe tbody tr th:only-of-type {\n",
       "        vertical-align: middle;\n",
       "    }\n",
       "\n",
       "    .dataframe tbody tr th {\n",
       "        vertical-align: top;\n",
       "    }\n",
       "\n",
       "    .dataframe thead th {\n",
       "        text-align: right;\n",
       "    }\n",
       "</style>\n",
       "<table border=\"1\" class=\"dataframe\">\n",
       "  <thead>\n",
       "    <tr style=\"text-align: right;\">\n",
       "      <th></th>\n",
       "      <th>invoice/item_number</th>\n",
       "      <th>date</th>\n",
       "      <th>store_number</th>\n",
       "      <th>store_name</th>\n",
       "      <th>store_location</th>\n",
       "      <th>county_number</th>\n",
       "      <th>county</th>\n",
       "      <th>category</th>\n",
       "      <th>category_name</th>\n",
       "      <th>vendor_number</th>\n",
       "      <th>vendor_name</th>\n",
       "      <th>item_number</th>\n",
       "      <th>item_description</th>\n",
       "      <th>pack</th>\n",
       "      <th>bottle_volume(ml)</th>\n",
       "      <th>state_bottle_cost</th>\n",
       "      <th>state_bottle_retail</th>\n",
       "      <th>bottles_sold</th>\n",
       "      <th>sale(dollars)</th>\n",
       "      <th>volume_sold(gallons)</th>\n",
       "    </tr>\n",
       "  </thead>\n",
       "  <tbody>\n",
       "    <tr>\n",
       "      <th>3723158</th>\n",
       "      <td>S06784300037</td>\n",
       "      <td>07/26/2019</td>\n",
       "      <td>3912</td>\n",
       "      <td>Smokin' Joe's #14 Tobacco and Liquor</td>\n",
       "      <td>225 EDGEWOOD RD\\nCEDAR RAPIDS 52405\\n(41.97341...</td>\n",
       "      <td>57.0</td>\n",
       "      <td>Linn</td>\n",
       "      <td>1012300.0</td>\n",
       "      <td>IRISH WHISKIES</td>\n",
       "      <td>370.0</td>\n",
       "      <td>Pernod Ricard USA/Austin Nichols</td>\n",
       "      <td>15644</td>\n",
       "      <td>Jameson</td>\n",
       "      <td>24</td>\n",
       "      <td>375</td>\n",
       "      <td>$6.35</td>\n",
       "      <td>$9.53</td>\n",
       "      <td>1</td>\n",
       "      <td>$9.53</td>\n",
       "      <td>0.10</td>\n",
       "    </tr>\n",
       "    <tr>\n",
       "      <th>57604</th>\n",
       "      <td>S04379700016</td>\n",
       "      <td>03/05/2019</td>\n",
       "      <td>2599</td>\n",
       "      <td>Hy-Vee Wine and Spirits / Coralville</td>\n",
       "      <td>1914 8TH STREET\\nCORALVILLE 52241\\n(41.682013,...</td>\n",
       "      <td>52.0</td>\n",
       "      <td>Johnson</td>\n",
       "      <td>1081030.0</td>\n",
       "      <td>COFFEE LIQUEURS</td>\n",
       "      <td>259.0</td>\n",
       "      <td>Heaven Hill Brands</td>\n",
       "      <td>67426</td>\n",
       "      <td>Copa De Oro Mexican Coffee</td>\n",
       "      <td>12</td>\n",
       "      <td>750</td>\n",
       "      <td>$4.63</td>\n",
       "      <td>$7.27</td>\n",
       "      <td>12</td>\n",
       "      <td>$87.24</td>\n",
       "      <td>2.38</td>\n",
       "    </tr>\n",
       "    <tr>\n",
       "      <th>762071</th>\n",
       "      <td>S08173600007</td>\n",
       "      <td>10/08/2019</td>\n",
       "      <td>2623</td>\n",
       "      <td>Hy-Vee Food Store #4 / Sioux City</td>\n",
       "      <td>2827 HAMILTON BLVD\\nSIOUX CITY 51104\\n(42.5198...</td>\n",
       "      <td>97.0</td>\n",
       "      <td>Woodbury</td>\n",
       "      <td>1032080.0</td>\n",
       "      <td>IMPORTED VODKA</td>\n",
       "      <td>260.0</td>\n",
       "      <td>Diageo Americas</td>\n",
       "      <td>34457</td>\n",
       "      <td>Ketel One Imported Vodka</td>\n",
       "      <td>12</td>\n",
       "      <td>1000</td>\n",
       "      <td>$17.00</td>\n",
       "      <td>$25.49</td>\n",
       "      <td>24</td>\n",
       "      <td>$611.76</td>\n",
       "      <td>6.34</td>\n",
       "    </tr>\n",
       "  </tbody>\n",
       "</table>\n",
       "</div>"
      ],
      "text/plain": [
       "        invoice/item_number        date  store_number  \\\n",
       "3723158        S06784300037  07/26/2019          3912   \n",
       "57604          S04379700016  03/05/2019          2599   \n",
       "762071         S08173600007  10/08/2019          2623   \n",
       "\n",
       "                                   store_name  \\\n",
       "3723158  Smokin' Joe's #14 Tobacco and Liquor   \n",
       "57604    Hy-Vee Wine and Spirits / Coralville   \n",
       "762071      Hy-Vee Food Store #4 / Sioux City   \n",
       "\n",
       "                                            store_location  county_number  \\\n",
       "3723158  225 EDGEWOOD RD\\nCEDAR RAPIDS 52405\\n(41.97341...           57.0   \n",
       "57604    1914 8TH STREET\\nCORALVILLE 52241\\n(41.682013,...           52.0   \n",
       "762071   2827 HAMILTON BLVD\\nSIOUX CITY 51104\\n(42.5198...           97.0   \n",
       "\n",
       "           county   category    category_name  vendor_number  \\\n",
       "3723158      Linn  1012300.0   IRISH WHISKIES          370.0   \n",
       "57604     Johnson  1081030.0  COFFEE LIQUEURS          259.0   \n",
       "762071   Woodbury  1032080.0   IMPORTED VODKA          260.0   \n",
       "\n",
       "                              vendor_name  item_number  \\\n",
       "3723158  Pernod Ricard USA/Austin Nichols        15644   \n",
       "57604                  Heaven Hill Brands        67426   \n",
       "762071                    Diageo Americas        34457   \n",
       "\n",
       "                   item_description  pack  bottle_volume(ml)  \\\n",
       "3723158                     Jameson    24                375   \n",
       "57604    Copa De Oro Mexican Coffee    12                750   \n",
       "762071     Ketel One Imported Vodka    12               1000   \n",
       "\n",
       "        state_bottle_cost state_bottle_retail  bottles_sold sale(dollars)  \\\n",
       "3723158             $6.35               $9.53             1         $9.53   \n",
       "57604               $4.63               $7.27            12        $87.24   \n",
       "762071             $17.00              $25.49            24       $611.76   \n",
       "\n",
       "         volume_sold(gallons)  \n",
       "3723158                  0.10  \n",
       "57604                    2.38  \n",
       "762071                   6.34  "
      ]
     },
     "execution_count": 4,
     "metadata": {},
     "output_type": "execute_result"
    }
   ],
   "source": [
    "# Convertimos el nombre de las col en snake_case\n",
    "df.columns = df.columns.str.replace(\" \",\"_\").str.lower().str.replace(\"_(\", \"(\")\n",
    "df.sample(3)\n"
   ]
  },
  {
   "cell_type": "code",
   "execution_count": 5,
   "id": "dc6ca5eb",
   "metadata": {},
   "outputs": [],
   "source": [
    "# Cambiamos el nombre a la columna category \n",
    "df.rename(columns={\"category\":\"category_number\"}, inplace=True)"
   ]
  },
  {
   "cell_type": "code",
   "execution_count": 6,
   "id": "c452a4f4",
   "metadata": {},
   "outputs": [
    {
     "data": {
      "text/plain": [
       "Index(['invoice/item_number', 'date', 'store_number', 'store_name',\n",
       "       'store_location', 'county_number', 'county', 'category_number',\n",
       "       'category_name', 'vendor_number', 'vendor_name', 'item_number',\n",
       "       'item_description', 'pack', 'bottle_volume(ml)', 'state_bottle_cost',\n",
       "       'state_bottle_retail', 'bottles_sold', 'sale(dollars)',\n",
       "       'volume_sold(gallons)'],\n",
       "      dtype='object')"
      ]
     },
     "execution_count": 6,
     "metadata": {},
     "output_type": "execute_result"
    }
   ],
   "source": [
    "df.columns"
   ]
  },
  {
   "cell_type": "code",
   "execution_count": 7,
   "id": "ce54c6dc",
   "metadata": {},
   "outputs": [
    {
     "name": "stdout",
     "output_type": "stream",
     "text": [
      "<class 'pandas.core.frame.DataFrame'>\n",
      "Index: 2073616 entries, 102 to 8197504\n",
      "Data columns (total 20 columns):\n",
      " #   Column                Dtype  \n",
      "---  ------                -----  \n",
      " 0   invoice/item_number   object \n",
      " 1   date                  object \n",
      " 2   store_number          int64  \n",
      " 3   store_name            object \n",
      " 4   store_location        object \n",
      " 5   county_number         float64\n",
      " 6   county                object \n",
      " 7   category_number       float64\n",
      " 8   category_name         object \n",
      " 9   vendor_number         float64\n",
      " 10  vendor_name           object \n",
      " 11  item_number           int64  \n",
      " 12  item_description      object \n",
      " 13  pack                  int64  \n",
      " 14  bottle_volume(ml)     int64  \n",
      " 15  state_bottle_cost     object \n",
      " 16  state_bottle_retail   object \n",
      " 17  bottles_sold          int64  \n",
      " 18  sale(dollars)         object \n",
      " 19  volume_sold(gallons)  float64\n",
      "dtypes: float64(4), int64(5), object(11)\n",
      "memory usage: 332.2+ MB\n"
     ]
    }
   ],
   "source": [
    "df.info()"
   ]
  },
  {
   "cell_type": "markdown",
   "id": "8f477161",
   "metadata": {},
   "source": [
    "## Transformación de datos"
   ]
  },
  {
   "cell_type": "markdown",
   "id": "80a21867",
   "metadata": {},
   "source": [
    "### Columna de fecha"
   ]
  },
  {
   "cell_type": "code",
   "execution_count": 8,
   "id": "b8694fc9",
   "metadata": {},
   "outputs": [],
   "source": [
    "# Convertimos a formato datetime\n",
    "df[\"date\"] = pd.to_datetime(df[\"date\"],format = \"%m/%d/%Y\" )                                   "
   ]
  },
  {
   "cell_type": "markdown",
   "id": "fbea8218",
   "metadata": {},
   "source": [
    "### Columnas float a integers: las relacionadas con el numero"
   ]
  },
  {
   "cell_type": "code",
   "execution_count": 9,
   "id": "b8ede6a5",
   "metadata": {},
   "outputs": [
    {
     "data": {
      "text/plain": [
       "array([39., 53., 85., 30., 69., 57., 82., 96., 77., 31., 78., 52.,  9.,\n",
       "       64., 49., 29., 34., 48., 63., 75., 97., 22., 46., 91.,  7., 70.,\n",
       "       94., 10., 11., 56., 17., 71., 23., 50., 14., 67., 37., 86., 88.,\n",
       "       40., 59., 51., 33., nan, 38., 72., 16., 21., 42., 35.,  3., 47.,\n",
       "       90., 24.,  4., 95.,  6., 55., 20., 99., 32.,  5., 81., 45., 62.,\n",
       "       25., 83., 60., 54., 41., 18., 84., 92., 28., 93.,  1., 44., 13.,\n",
       "       58., 66.,  8., 15., 76., 79., 74., 19., 43., 12.,  2., 61., 73.,\n",
       "       80., 65., 68., 87., 27., 36., 98., 89., 26.])"
      ]
     },
     "execution_count": 9,
     "metadata": {},
     "output_type": "execute_result"
    }
   ],
   "source": [
    "df[\"county_number\"].unique()"
   ]
  },
  {
   "cell_type": "code",
   "execution_count": 10,
   "id": "720cbb77",
   "metadata": {},
   "outputs": [
    {
     "data": {
      "text/plain": [
       "array([1062300., 1081300., 1081900., 1062200., 1031200., 1012100.,\n",
       "       1042100., 1701100., 1011100., 1041100., 1062310., 1082900.,\n",
       "       1032200., 1011200., 1032080., 1071100., 1031080., 1031100.,\n",
       "       1011300., 1052010., 1081600., 1012200., 1101100., 1081200.,\n",
       "       1051110., 1051100., 1011500., 1022100., 1062050., 1051010.,\n",
       "       1081370., 1051150., 1081400., 1081365., 1081340., 1081390.,\n",
       "       1081330., 1081240., 1051120., 1081315., 1012210., 1081015.,\n",
       "       1081305., 1081317., 1081312., 1081350., 1081335., 1062100.,\n",
       "       1041150., 1081030., 1081220., 1012300., 1081380., 1081500.,\n",
       "       1081010., 1081355., 1081700., 1031110., 1011250., 1031090.,\n",
       "       1081230., 1041200., 1081250., 1051140., 1011400., 1022200.,\n",
       "       1081210.,      nan, 1081020., 1082010., 1062250., 1032100.,\n",
       "       1032230., 1082015., 1501100., 1082390.])"
      ]
     },
     "execution_count": 10,
     "metadata": {},
     "output_type": "execute_result"
    }
   ],
   "source": [
    "df[\"category_number\"].unique()"
   ]
  },
  {
   "cell_type": "code",
   "execution_count": 11,
   "id": "9b2495da",
   "metadata": {},
   "outputs": [
    {
     "data": {
      "text/plain": [
       "array([ 65., 434., 322.,  35., 380., 260., 370., 192.,  55.,  85., 297.,\n",
       "       389., 115., 451., 305., 395., 255., 461., 330., 420., 259., 410.,\n",
       "       421., 885., 300., 205., 308., 240., 306., 357., 971., 294., 130.,\n",
       "       390., 969., 301., 125., 277., 375., 267., 384., 418., 394., 365.,\n",
       "       190., 285., 184., 338., 350., 492., 391., 198., 469.,  86., 160.,\n",
       "       460., 962., 377., 978., 483., 239., 977., 250., 497., 495., 346.,\n",
       "       399.,  89.,  10., 459., 295., 293., 154., 298., 158.,  91., 465.,\n",
       "       415., 503.,  79., 369., 363., 987., 143., 307., 185., 224., 109.,\n",
       "       211., 310., 379., 477.,  90., 108., 313.,  61., 278., 501., 251.,\n",
       "        80., 311., 482., 456., 137., 361., 475., 287., 488.,  27., 485.,\n",
       "       803.,  68., 432., 263., 155.,  69., 343., 161., 486.,  51.])"
      ]
     },
     "execution_count": 11,
     "metadata": {},
     "output_type": "execute_result"
    }
   ],
   "source": [
    "df[\"vendor_number\"].unique()"
   ]
  },
  {
   "cell_type": "markdown",
   "id": "d5b8640b",
   "metadata": {},
   "source": [
    "### Despues de comprobar los valores unicos, vemos que no tiene sentido que los valores sean float, deberían ser int. Pasamos a transformarlos en la columna que podemos porque no tiene nulos"
   ]
  },
  {
   "cell_type": "code",
   "execution_count": 12,
   "id": "8e8e8783",
   "metadata": {},
   "outputs": [],
   "source": [
    "# df[\"county_number\"] = df[\"county_number\"].astype(int) ---no funciona porque hay valores Nan\n",
    "#df[\"county_number\"] = df[\"county_number\"].apply(lambda x: int(x) if pd.notnull(x) else np.nan)--- tampoco funciona"
   ]
  },
  {
   "cell_type": "code",
   "execution_count": 13,
   "id": "5f7c67bb",
   "metadata": {},
   "outputs": [],
   "source": [
    "df[\"vendor_number\"] = df[\"vendor_number\"].astype(int)"
   ]
  },
  {
   "cell_type": "code",
   "execution_count": 14,
   "id": "bcab1e52",
   "metadata": {},
   "outputs": [
    {
     "data": {
      "text/plain": [
       "array([ 65, 434, 322,  35, 380, 260, 370, 192,  55,  85, 297, 389, 115,\n",
       "       451, 305, 395, 255, 461, 330, 420, 259, 410, 421, 885, 300, 205,\n",
       "       308, 240, 306, 357, 971, 294, 130, 390, 969, 301, 125, 277, 375,\n",
       "       267, 384, 418, 394, 365, 190, 285, 184, 338, 350, 492, 391, 198,\n",
       "       469,  86, 160, 460, 962, 377, 978, 483, 239, 977, 250, 497, 495,\n",
       "       346, 399,  89,  10, 459, 295, 293, 154, 298, 158,  91, 465, 415,\n",
       "       503,  79, 369, 363, 987, 143, 307, 185, 224, 109, 211, 310, 379,\n",
       "       477,  90, 108, 313,  61, 278, 501, 251,  80, 311, 482, 456, 137,\n",
       "       361, 475, 287, 488,  27, 485, 803,  68, 432, 263, 155,  69, 343,\n",
       "       161, 486,  51])"
      ]
     },
     "execution_count": 14,
     "metadata": {},
     "output_type": "execute_result"
    }
   ],
   "source": [
    "df[\"vendor_number\"].unique()"
   ]
  },
  {
   "cell_type": "markdown",
   "id": "3bfded9a",
   "metadata": {},
   "source": [
    "### Transformar los valores de las columnas de precio :\n",
    "- `state_bottle_cost`\n",
    "- `state_bottle_retail`\n",
    "- `sale(dollars)`"
   ]
  },
  {
   "cell_type": "code",
   "execution_count": 15,
   "id": "be97e21e",
   "metadata": {},
   "outputs": [
    {
     "data": {
      "text/plain": [
       "'$6.82'"
      ]
     },
     "execution_count": 15,
     "metadata": {},
     "output_type": "execute_result"
    }
   ],
   "source": [
    "precio_limpiar = df[\"state_bottle_cost\"].iloc[0]\n",
    "precio_limpiar"
   ]
  },
  {
   "cell_type": "code",
   "execution_count": 16,
   "id": "3d3aca36",
   "metadata": {},
   "outputs": [],
   "source": [
    "#df[\"state_bottle_cost\"]=df[\"state_bottle_cost\"].str.replace(\"$\", \"\").astype(float)"
   ]
  },
  {
   "cell_type": "code",
   "execution_count": 17,
   "id": "3ec92083",
   "metadata": {},
   "outputs": [],
   "source": [
    "def dollars_float(dataframe,col):\n",
    "     dataframe[col] = dataframe[col].str.replace(\"$\", \"\").astype(float)\n",
    "     return dataframe"
   ]
  },
  {
   "cell_type": "code",
   "execution_count": 18,
   "id": "85fae309",
   "metadata": {},
   "outputs": [],
   "source": [
    "lista_col = [\"state_bottle_cost\", \"state_bottle_retail\", \"sale(dollars)\"]\n",
    "for col in lista_col:\n",
    "     dollars_float(df,col)"
   ]
  },
  {
   "cell_type": "markdown",
   "id": "6e8d5465",
   "metadata": {},
   "source": [
    "### Descomposición de la columna `store_location`"
   ]
  },
  {
   "cell_type": "code",
   "execution_count": 19,
   "id": "9d93ce3e",
   "metadata": {},
   "outputs": [
    {
     "data": {
      "text/plain": [
       "'402 EAST MAIN\\nANAMOSA 52205\\n(42.108289, -91.281881)'"
      ]
     },
     "execution_count": 19,
     "metadata": {},
     "output_type": "execute_result"
    }
   ],
   "source": [
    "valor_store_location = df[\"store_location\"].iloc[1]\n",
    "valor_store_location"
   ]
  },
  {
   "cell_type": "code",
   "execution_count": 20,
   "id": "a708375e",
   "metadata": {},
   "outputs": [],
   "source": [
    "# addres = valor_store_location.split(\"\\n\")[0]\n",
    "# city = valor_store_location.split(\"\\n\")[1].split()\n",
    "# latitud = float(valor_store_location.split(\"\\n\")[2].strip(\"()\").split(\",\")[0])\n",
    "# longitud =float(valor_store_location.split(\"\\n\")[2].strip(\"()\").split(\", \")[1]) "
   ]
  },
  {
   "cell_type": "code",
   "execution_count": 21,
   "id": "c19f459b",
   "metadata": {},
   "outputs": [],
   "source": [
    "def extract_location(valor):\n",
    "     try:\n",
    "          split_data = valor.split(\"\\n\") # el split genera una lista\n",
    "          adress = split_data[0]\n",
    "          city = split_data[1]\n",
    "          if len(split_data)> 2 and split_data[2].strip():\n",
    "               latitude, longitude = map(float,split_data[2].strip(\"()\").split(\", \")) # aqui genero otra lista\n",
    "          else:\n",
    "              latitude, longitude = None, None \n",
    "          return pd.Series([adress, city, latitude, longitude])\n",
    "     except(IndexError, ValueError):\n",
    "          return pd.Series([None, None, None, None])"
   ]
  },
  {
   "cell_type": "code",
   "execution_count": 22,
   "id": "fcf61614",
   "metadata": {},
   "outputs": [],
   "source": [
    "df[[\"adress\", \"city\", \"latitude\", \"longitude\"]] = df[\"store_location\"].apply(extract_location)"
   ]
  },
  {
   "cell_type": "code",
   "execution_count": 24,
   "id": "637f856d",
   "metadata": {},
   "outputs": [
    {
     "name": "stdout",
     "output_type": "stream",
     "text": [
      "<class 'pandas.core.frame.DataFrame'>\n",
      "Index: 2073616 entries, 102 to 8197504\n",
      "Data columns (total 24 columns):\n",
      " #   Column                Dtype         \n",
      "---  ------                -----         \n",
      " 0   invoice/item_number   object        \n",
      " 1   date                  datetime64[ns]\n",
      " 2   store_number          int64         \n",
      " 3   store_name            object        \n",
      " 4   store_location        object        \n",
      " 5   county_number         float64       \n",
      " 6   county                object        \n",
      " 7   category_number       float64       \n",
      " 8   category_name         object        \n",
      " 9   vendor_number         int64         \n",
      " 10  vendor_name           object        \n",
      " 11  item_number           int64         \n",
      " 12  item_description      object        \n",
      " 13  pack                  int64         \n",
      " 14  bottle_volume(ml)     int64         \n",
      " 15  state_bottle_cost     float64       \n",
      " 16  state_bottle_retail   float64       \n",
      " 17  bottles_sold          int64         \n",
      " 18  sale(dollars)         float64       \n",
      " 19  volume_sold(gallons)  float64       \n",
      " 20  adress                object        \n",
      " 21  city                  object        \n",
      " 22  latitude              float64       \n",
      " 23  longitude             float64       \n",
      "dtypes: datetime64[ns](1), float64(8), int64(6), object(9)\n",
      "memory usage: 395.5+ MB\n"
     ]
    }
   ],
   "source": [
    "df.info()"
   ]
  },
  {
   "cell_type": "code",
   "execution_count": 23,
   "id": "ff3ee4c6",
   "metadata": {},
   "outputs": [],
   "source": [
    "df.to_parquet(\"../data/data_transform/dataset_cleaned.parquet\")"
   ]
  }
 ],
 "metadata": {
  "kernelspec": {
   "display_name": "venv",
   "language": "python",
   "name": "python3"
  },
  "language_info": {
   "codemirror_mode": {
    "name": "ipython",
    "version": 3
   },
   "file_extension": ".py",
   "mimetype": "text/x-python",
   "name": "python",
   "nbconvert_exporter": "python",
   "pygments_lexer": "ipython3",
   "version": "3.12.3"
  }
 },
 "nbformat": 4,
 "nbformat_minor": 5
}
